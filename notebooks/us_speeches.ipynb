{
 "cells": [
  {
   "cell_type": "code",
   "execution_count": 1,
   "id": "4f4a077b",
   "metadata": {},
   "outputs": [],
   "source": [
    "# !pip install wordcloud scikit-network datasets\n",
    "# !pip install tiktoken openai transformers sentence_transformers\n",
    "\n",
    "# !pip install -U 'spacy[apple]'\n",
    "# # !pip install -U 'spacy[cuda12x]'"
   ]
  },
  {
   "cell_type": "code",
   "execution_count": 2,
   "id": "06102905",
   "metadata": {},
   "outputs": [
    {
     "name": "stderr",
     "output_type": "stream",
     "text": [
      "/Users/tig1/miniforge3/envs/topol/lib/python3.10/site-packages/torchvision/io/image.py:14: UserWarning: Failed to load image Python extension: 'dlopen(/Users/tig1/miniforge3/envs/topol/lib/python3.10/site-packages/torchvision/image.so, 0x0006): Library not loaded: @rpath/libjpeg.9.dylib\n",
      "  Referenced from: <0B7EB158-53DC-3403-8A49-22178CAB4612> /Users/tig1/miniforge3/envs/topol/lib/python3.10/site-packages/torchvision/image.so\n",
      "  Reason: tried: '/Users/tig1/miniforge3/envs/topol/lib/python3.10/site-packages/torchvision/../../../libjpeg.9.dylib' (no such file), '/Users/tig1/miniforge3/envs/topol/lib/python3.10/site-packages/torchvision/../../../libjpeg.9.dylib' (no such file), '/Users/tig1/miniforge3/envs/topol/lib/python3.10/lib-dynload/../../libjpeg.9.dylib' (no such file), '/Users/tig1/miniforge3/envs/topol/bin/../lib/libjpeg.9.dylib' (no such file)'If you don't plan on using image functionality from `torchvision.io`, you can ignore this warning. Otherwise, there might be something wrong with your environment. Did you have `libjpeg` or `libpng` installed before building `torchvision` from source?\n",
      "  warn(\n"
     ]
    }
   ],
   "source": [
    "import os\n",
    "from dotenv import load_dotenv; load_dotenv()\n",
    "\n",
    "from tqdm.notebook import tqdm\n",
    "import pickle\n",
    "import pandas as pd\n",
    "import numpy as np\n",
    "import plotly.graph_objects as go\n",
    "import matplotlib.pyplot as plt\n",
    "from wordcloud import WordCloud\n",
    "\n",
    "from datasets import load_dataset\n",
    "\n",
    "os.environ[\"PYTORCH_MPS_HIGH_WATERMARK_RATIO\"] = \"0.0\"\n",
    "import torch\n",
    "import spacy; spacy.prefer_gpu()\n",
    "import tiktoken\n",
    "from sklearn.feature_extraction.text import CountVectorizer, TfidfTransformer\n",
    "# from vertexai.preview import tokenization\n",
    "from transformers import pipeline, AutoTokenizer, AutoModel, AutoModelForTokenClassification\n",
    "from sentence_transformers import SentenceTransformer\n",
    "from sklearn.feature_extraction.text import ENGLISH_STOP_WORDS\n",
    "\n",
    "import networkx as nx\n",
    "from transformers.pipelines import pipeline\n",
    "\n",
    "from src.helpers import preprocessing as preproc\n",
    "from src.helpers import postprocessing as postproc\n",
    "from src.helpers.sentiment_analysis import SentimentModel\n",
    "from src.topol_modeling import TopolModeling as TOPOL\n",
    "from src.openai_api import OPENAI_CLIENT, OpenAIEmbedding\n",
    "from src.google_ai_api import GGENAI_CLIENT, GoogleAIEmbedding, AdvancedGoogleAIEmbedding"
   ]
  },
  {
   "cell_type": "code",
   "execution_count": 4,
   "id": "06be2ada",
   "metadata": {},
   "outputs": [
    {
     "ename": "NameError",
     "evalue": "name 'torch' is not defined",
     "output_type": "error",
     "traceback": [
      "\u001b[0;31m---------------------------------------------------------------------------\u001b[0m",
      "\u001b[0;31mNameError\u001b[0m                                 Traceback (most recent call last)",
      "Cell \u001b[0;32mIn[4], line 4\u001b[0m\n\u001b[1;32m      1\u001b[0m DATA_PATH \u001b[38;5;241m=\u001b[39m os\u001b[38;5;241m.\u001b[39mgetenv(\u001b[38;5;124m\"\u001b[39m\u001b[38;5;124mDATA_PATH\u001b[39m\u001b[38;5;124m\"\u001b[39m)\n\u001b[1;32m      2\u001b[0m OUTPUTS_PATH \u001b[38;5;241m=\u001b[39m os\u001b[38;5;241m.\u001b[39mgetenv(\u001b[38;5;124m\"\u001b[39m\u001b[38;5;124mOUTPUTS_PATH\u001b[39m\u001b[38;5;124m\"\u001b[39m)\n\u001b[0;32m----> 4\u001b[0m DEVICE \u001b[38;5;241m=\u001b[39m \u001b[43mtorch\u001b[49m\u001b[38;5;241m.\u001b[39mdevice(\u001b[38;5;124m\"\u001b[39m\u001b[38;5;124mmps\u001b[39m\u001b[38;5;124m\"\u001b[39m)\n\u001b[1;32m      5\u001b[0m STOP_WORDS \u001b[38;5;241m=\u001b[39m \u001b[38;5;28mlist\u001b[39m(ENGLISH_STOP_WORDS)\n\u001b[1;32m      6\u001b[0m RANDOM_STATE \u001b[38;5;241m=\u001b[39m \u001b[38;5;241m42\u001b[39m\n",
      "\u001b[0;31mNameError\u001b[0m: name 'torch' is not defined"
     ]
    }
   ],
   "source": [
    "DATA_PATH = os.getenv(\"DATA_PATH\")\n",
    "OUTPUTS_PATH = os.getenv(\"OUTPUTS_PATH\")\n",
    "\n",
    "DEVICE = torch.device(\"mps\")\n",
    "STOP_WORDS = list(ENGLISH_STOP_WORDS)\n",
    "RANDOM_STATE = 42"
   ]
  },
  {
   "cell_type": "markdown",
   "id": "c4757239",
   "metadata": {},
   "source": [
    "# Getting data"
   ]
  },
  {
   "cell_type": "code",
   "execution_count": null,
   "id": "ab045157",
   "metadata": {},
   "outputs": [],
   "source": [
    "df = pd.read_pickle(os.path.join(DATA_PATH, \"us_fed_speeches.pickle\"))\n",
    "FILES_PREFIX = \"us_speeches\""
   ]
  },
  {
   "cell_type": "code",
   "execution_count": 7,
   "id": "22afdd9a",
   "metadata": {},
   "outputs": [
    {
     "data": {
      "application/vnd.microsoft.datawrangler.viewer.v0+json": {
       "columns": [
        {
         "name": "index",
         "rawType": "int64",
         "type": "integer"
        },
        {
         "name": "text",
         "rawType": "object",
         "type": "string"
        },
        {
         "name": "label",
         "rawType": "int64",
         "type": "integer"
        }
       ],
       "ref": "141e6a29-59b3-4f7d-821d-15305fc03020",
       "rows": [
        [
         "0",
         "Perfect Mantra I've been looking for this mantra for a long time. My children at yoga and me are very glad that this lotus mantra is making our class more enjoyable. Recommended even for adults with the motion of lotusflower opening and going back into the ground.",
         "1"
        ],
        [
         "1",
         "Quality I'm just a little disapointed with the quality of the Metal Case, cause the only thing I saw was the photo on the web",
         "1"
        ],
        [
         "2",
         "Exceptional murder-mystery writer scores big. Being a purveyor of exceptional mystery and crime novels, what a pleasant surprise to find one of my random picks turning out so well. Parker has an uncanny grasp of the lifestyle in orange county and a keen insight into the personalities of its inhabitants. Naughton is a true crime noir treat, and Parker's personalization of him evokes the same dread as the main character feels.Highly recommended.",
         "1"
        ],
        [
         "3",
         "all the prodding questions you never wanted to face Walker Percy has written a book that never really answers any of your questions but somehow leaves you feeling as if you have a broader understanding of what it means to be human. He is witty, sarcastic, entertaining and painfully honest. This is a wonderful book that should be read by anyone wishing to understand the human condition. I'm not even sure how to describe it. Just get it and you'll know what I mean. I had to read it for a culture and values class about 10 years ago and have gone thru 5 coppies from lending them out and never getting them back. :)",
         "1"
        ],
        [
         "4",
         "Best Wok ever I am so glad I bought this wok. It's the best one I owed ever. It is very easy to clean and I can throw it into the dishwasher. Food isn't sticking and I like the little red dot that tells you the wok is hot. I will never use another wok again. Just make sure to use silicon stirring spoons on it or you will scratch the nonstick coating. Love it.",
         "1"
        ],
        [
         "5",
         "Timely & as described. I received the book that I requested in the stated condition. Can't ask for a smoother business transaction. Thank you.",
         "1"
        ],
        [
         "6",
         "Doesn't Quite Reach the Same Heights Having read and enjoyed A Sailor of Austria, I looked forward to reading a second installment of the Prohaska saga. But I was hesitant. Could Biggins repeat the Magic of the first book? After reading The Emperors Coloured Coat, I would answer \"sort of\".The book is roughly divided into three sections: Austria/Balkans/Asia. The first third is true to the form of A Sailor of Austria. An edifying slice of history told in a delightful fashion. Every page includes something fascinating about the Austro Hungarian empire as well as something laugh out loud funny. The other two thirds don't achieve the same level though. A long series of tribulations and predicaments become rather tedious. By the end of the book I had rather forgotten how enjoyable the first third of it was.",
         "1"
        ],
        [
         "7",
         "Only fantastic The Assyrian is absolutely the most wonderful book i ever read. I'm a 19 year old assyrian student from Germany and i was 13 when i read it for the first time. I read it in two days, i couldn't give it out of may hand even if i wanted. I was fascinated of the way that the author showed us authentic assyrian life in the ancient ages. I am so proud that one of best books that have ever been written tells the story of an assyrian prince. I will give my first son the name Tiglat Ashur!God save the assyrian Nation!!!!! ARYO",
         "1"
        ],
        [
         "8",
         "So Far, So Good! I purchased this unit to replace a FreshFlow made by Doskocil, due to the substandard filters presently being produced for that unit. So far, it seems to be doing quite well. I was a bit leary of the way the pump fits into the faountain (from the bottom, through a hole in the body of the bowl), but the O-ring seems to be doing its job and I've not detected any leaks yet. (That said, I'd have been more comfortable with a design where the pump inserted from the top, into a 100% sealed bowl-unit, as with the FreshFlow.)The filters for these units have not been bastardised (yet) as those for the FreshFlows have been; when it comes to my beloved pet I will not tolerate any cost-cutting tomfoolery with the design. The huge reservoir is a plus, as is the deep bowl. Be assured, if the thing starts to leak in future I will update this review accordingly; for now, 4 Stars.",
         "1"
        ],
        [
         "9",
         "great buy Great product for the price point. They are not the best you can buy but they get the job done",
         "1"
        ],
        [
         "10",
         "Understand the everyday lives of ordinary people. Can you imagine what it would be like to both make and repair everything you needed every single day of your life? That's what life was like for many in the American colonies living away from cities and shops. By the time you were about thirty, you would already have done the work of a modern person twice that age!Good craftsmanship was a necessity, not to make these objects perfect, but to have them render many long years of service. Leaonard Everett Fischer simply explains and illustrates the making of candles, soap, brooms and cider -- all necessities of life.This book is a perfect addition to a young history student's understanding of the lives of ordinary people in colonial times.",
         "1"
        ],
        [
         "11",
         "imaginary review Since Disney has recalled and discontinued this item - out of spite? - I guess I won't be seeing it after all. What strange policies Disney has! This title was begged for for a decade, then given the deluxe treatment, then yanked 2 weeks after distribution. Wonder why?UPDATE: It's good to have friends, I did get to see the dvd, and - wow - it lived up to my childhood memories, in fact exceeded them. Shameful still that Disney dumped then withdrew this fantastic title. Well, I guess Disney like Pirates so much that they want video pirates to distribute this film for them. Big news, Disney - they're up to the task.",
         "1"
        ],
        [
         "12",
         "Something a bit different The Red Chord kinda puts a new twist on extreme music. I dont really know what to label them, yet they seem to combine death and hardcore music (grindcore perhaps?) and put an interesting twist on things. Please dont listen to the reviewer that said that might sound somewhat like Hatebreed. Hatebreed is not a bad band, yet they are strictly modern hardcore, and Red Cord puts themself in another catorgory by sticking to a mostly \"Death/Grind\" Format. But to move on with the review, this is a really good album. It is a bit much to absorb at first as the combination of styles kinda plays with you, yet it seems to grow on you the more you listen. The Red Cord is a treat to extreme music, and hopefully they will continue to give us some great albums in the future. ENJOY",
         "1"
        ],
        [
         "13",
         "pretty decent Love it, wireless works a lil faster, 10 times easier to install than its predecessor. Software is more flashy than anything else but helps the unexperienced user.Worth the money!",
         "1"
        ],
        [
         "14",
         "Love these little Mini Bread Bakers 1. These things are adorable2. They seem quite durable, as long as you don't bang them around too much. I bought two sets at different times and neither set had any chips so the packaging for shipping was appropriate.3. They do seem to make things more moist when you soak them prior to using. I'm not sure you want this for ALL breads, but for pumpkin/banana that sort of thing it's awesome. I think you could not soak if you don't want the moisture.4. I haven't used them really often as I only bake for other people, not myself, but these are what I use now for any kind of recipe that I need a loaf pan for.5. I think they would be really cute to serve bread in at family parties.Quick review of instructions in case you've lost yours:Soak for 15 minutes in water prior to using. Start pans off in a COLD oven to gradually bring them to temp.**The first time I used these I forgot to do this and they didn't shatter, but it's probably not a good idea to take chances.",
         "1"
        ],
        [
         "15",
         "Perfect Drill I have had this item for a little over a week now. I used it to build a set of shelfs and some other odds and ends around the house. It is perfect for the weekend warrior, light weight and charges fast. Also to note if you ever need the added power of a professional you can use the bigger 3.0 amp batteries in this tool as well.",
         "1"
        ],
        [
         "16",
         "Thunder Below Thunder Below By Admiral Eugene Fluckey has provided many hours of pleasure for myhusband. He has read and reread this several times. He feel like he is right amongthe men the way the stories are told. I have just purchased his second copy as a giftas he has worn the first one out. Wonderful Submarine involvement, Great reading!",
         "1"
        ],
        [
         "17",
         "good investment for your marriage this book is so well written and very inspiring. the author speaks very candidly about her own trials in her marriage and makes each topic very relateable. i especially liked the sample prayers at the end of each chapter, along with the scripture. i bought the power of a praying husband for mine and have already used both books as part of a wedding present. i've also recommended it to quite a few other wives.",
         "1"
        ],
        [
         "18",
         "Love this bra!! I purchased this bra in the store and loved it so much I had to buy more. The bra is comfortable and supportive and would definitely recommend this to full-figured women.",
         "1"
        ],
        [
         "19",
         "Awesome Andy....As Usual!!!! This is one of my favorite seasons of Andy Griffith....I have the first three seasons and I am about to purchase the fourth...I never get tired of The Any griffith Show it is timeless!!!!",
         "1"
        ],
        [
         "20",
         "Classical music If you love classical music this CD is for you, it has known pieces that anyone can identify.",
         "1"
        ],
        [
         "21",
         "It is a dream guitar for cheap I am an experienced guitar and ukulele player. This little guitar is such a great inbetween instrument. It is the same size as a baritone ukulele, and has the steel strings of a guitar, and the same tuning.However, I did have to do minor maintence to actually be able to get sound that was clear out of it.First, there was major fret buzz. You have to get a knife, and in the nut and saddle, thicken the wedges wear the strings go in, and make them deeper.Second, the standard tuning for a guitar is eadgbe. eadgbe on this size instrument will have to much slack with the strings because of the scale size. So there are to instruments that come similar to this. A guitalele made by yamaha(not sold in the U.S) and a requinto which is a mexican instrument that is also tuned to adgcea. ADGCEA would be the same tuning as putting a capo on the 5th fret of a guitar.So, tune it up to ADGCEA, the sound is brilliant, and so unexpected.",
         "1"
        ],
        [
         "22",
         "A Great Self-Emprovement Book Hey online shoppersThe 48 laws of power is a great book. I'm still reading it. This book can be applied to diffrent walk of life. I used it to have leverage over my coworkers and my girlfriend. The best rule in my opinion is Win Through Actions not Argument. You can look up all 48 laws on any search engine but to grasp the full message you have to buy the book. It will start worjing for you as soon as you get it. Its my daily guide in this world of corruption and power. Guard yourself against power, gain power or lose it. This book shows you how to. Amazon.com has such great shipping and low prices you can read my review or your copy and have it by lunch time tomorrow. Happy reading!Dan G.New Jersey",
         "1"
        ],
        [
         "23",
         "360 wireless adapter rocks! Much better than running a wire. This works at my 2-story house with my router being up-stairs and the xbox being downstairs in a cabinet. Pretty awsome and would recommend to anyone. Just wish it wasn't so pricey as compared to a typical USB or PCI network adapter.",
         "1"
        ],
        [
         "24",
         "The Best Dog I liked the book.It made you feel sad but that was what made it a good book.Also I liked how the boy went looking for his father.",
         "1"
        ],
        [
         "25",
         "Don't Believe Everything You Read -- and do meet Julia! If I'd only based my decision on the handful of so-so \"professional\" reviews I'd seen on Being Julia, I probably would have missed this little gem of a film. Forget the fact that Annette Bening will likely be nominated for an Oscar and Golden Globe, this film is a delightful character study of a British stage actress and those who inhabit her world. Besides Ms. Bening, the movie features a top-notch cast including Jeremy Irons in the role of Julia's producer-husband. The film could easily get add'l nominations for the beautiful costumes and set designs. All in all, one could do a lot worse than spend a few hours with Being Julia.",
         "1"
        ],
        [
         "26",
         "Bad ...! This band is one good band. They have some futruistic heavy sound that just blows you away. Altough I was dissappointed when I found out there was a song they did not put on this album. THEY ARE DEFINATLY BETTER THAN BUFFALO SPRINGFIELD",
         "1"
        ],
        [
         "27",
         "Good Its a little skillet that cooks what can fit in it :)pretty simple, especially when u live in small tight living spaces",
         "1"
        ],
        [
         "28",
         "Very pleased with the rice cooker This is the third rice cooker I have owned. I never knew that the rice cooker could make that much difference, but it does! The rice tastes much better!",
         "1"
        ],
        [
         "29",
         "Lovely Of all the recordings I've heard of the Requiem, this is the most warmly beautiful. The singing is excellent, but what really makes this recording is the more prominent than usual playing of the orchestra. Purists may object, but this performance is irresistable. The Cantique is a jewel.",
         "1"
        ],
        [
         "30",
         "Very impactful. Depending on the current state of you company's climate and/or culture, this book can provide some very poigniant insight as to how to manage yourself and your teams. The concepts and principles are dynamic, hard hitting, and thought provoking. I highly recommend this quick and easy read, if you presently find yourself in the midst of a cultural evolution.",
         "1"
        ],
        [
         "31",
         "This is the greatest cd ever!!! This is my most favorite CD in my current collection of 60's psychadelic rock by the best artists of all time. This CD also includes all of my favorite Hendrix songs such as Purple Haze, Hey Joe, All Along the Watchtower, and of course Voodoo Child (Slight Return) as well as countless other guitar masterpieces. GOOD WORK JIMI, YOU WILL BE FOREVER REMEMBERED!!",
         "1"
        ],
        [
         "32",
         "Absolutley awesome! I just finished this book and I would like to recommend it to other kids because it is the kind of book you can read over and over and over and never get tired of it. She is a little mean but she comes to her senses in the end and is generous and kind.",
         "1"
        ],
        [
         "33",
         "Gillmore Girls Season 7 The 7th Season is full of unexpected surprises that will keep the viewers watching I certainly enjoyed this season!!!!!!!!!!",
         "1"
        ],
        [
         "34",
         "A boy, a rat, and a... whatever. Well, Brian Henson's done it again. After his last success at adapting Dickens' A Christmas Carol, he has once again succeeded, albeit in a different way, at story adaptation. Only this time, he makes a fine Muppet movie based on Robert Louis Stevenson's Treasure Island.The film stars Tim Curry as the Long John Silvers, although many other humans had strong parts as well, including Kevin Bishop as Jim Hawkins (the boy), and Billy Connolly (proprietor of map.) All the fun is here though, and basically the whole storyline of the novel, as the Muppets sing and dance their way through the film.This film is very entertaining for the whole family. A few dark parts might mar it for really young children, but I find that most kids would enjoy it, as I did when I was younger.",
         "1"
        ],
        [
         "35",
         "The definitive text! This book is the definitive text on the connection between the United States and Japan. Readable not just for the historian, but the layman as well, the writing is superb. Snippets of information in side boxes offer amusing and informative anecdotes. One major strength of this work is that fact that the reader comes away with an idea of the Japanese perspective on the West, specifically the United States. Often either demonized or put on a pedestal by Westerners, this book provides insight into both the strengths and weaknesses of Japan as well as the West. The only drawback is that this book ends in the early 1990s, before the onset of deep recession in Japan. It would be of great value to get Dr. Boyle's perspective on the decade of the 90s and how the Japanese recession has affected Japan-US relations, as well as Japanese attitudes towards Japan itself.",
         "1"
        ],
        [
         "36",
         "CS FOREVER This game isn't better than the comp version but it has awsome graphics, if you have never played cs before then I would buy it because cs is the worlds most popular first person shooter. When I first got it I couldn't stop playing it. It is fun and I hope they come out with amx mods for it.",
         "1"
        ],
        [
         "37",
         "Pauly D's a fun show. I'm not on cable and so I PAY for this show on Amazon. Well, if I'm paying for a show it's because in my book it's 5 stars, and next to parking lot wars, and hard core pawn, Pauly D is a show that I enjoy. We all got o know Pauly on Jersey Shore, and I for one and glad to see Pauly D continue on.I like the chemistry between Pauly and his \"bro's\". I'll acknowledge that after a few seasons the shows concept may be hard to keep fresh, but for now I'm just enjoying watching my (T.V.) friend Pauly D. have the success that a positive attitude should bring to anyone's life.Rock on Pauly D, (and \"bro's\")",
         "1"
        ],
        [
         "38",
         "Great Movie I never could find a copy of this movie in stores. I looked for a long time and found it here. I do love this movie and recommend anyone to watch",
         "1"
        ],
        [
         "39",
         "An excellent documentary on the Eastern Front If one wants to get an idea of the horror that was World War II on the Eastern Front, then this is required viewing. I saw this when it was broadcast on PBS. It presents a Soviet view of the war with all that entails but you really can't overdramatize what happened there.",
         "1"
        ],
        [
         "40",
         "hilary you can act and sing!!!!!!! hilary has everything! a great personality, acting skills, and she is so gorgeous!!!!!!!!!!!!!! \"wake up\" is a really good song she has a beautiful voice!!!!!!!!! you rock! \"holla\"! southern hottie!!!!!!!!!!",
         "1"
        ],
        [
         "41",
         "Take Care of Yourself.... You're All You Have! Your primary doctor is yourself. Information gleaned from this book has furnished me the ammo I need to help maintain my health, and from a source that doesn't see me as an Accounts Billable, prescribing me pills from whatever laboratory source buys the doctors the most pizza. Doctor's primary concern is money, not you. Be better informed with books.",
         "1"
        ],
        [
         "42",
         "works great! I use it at work. The ear piece is flexible so it bends around your ear, if needed or you may cut it if you have bigger ears but its size is great for me. My only issue is being a processing line operator, around machinery the wire hanging from the ear piece tends to get caught on things and pull the earpiece off my ear.",
         "1"
        ],
        [
         "43",
         "Sometimes Straight to DVD doesn't mean its ab bad movie I watched this movie because I had a free code for Redbox; I was scanning videos and I thought that this was a good premise for a movie. I agree with another reviewer that the ending was somehow less than what I expected, however, it also was one of those endings that leads the viewer to come to their own conclusion. You have nine people in a room and the truth is that they know each other, but they don't know how they know each other. On the surface, this is a suspenseful movie; underneath that, its a lesson about how the choices we make in life, affect the lives of others. Great movie!",
         "1"
        ],
        [
         "44",
         "San Antonio, you don't have a clue ...As I just wrote about Death by Rhubarb, I enjoy Heaven and the other characters in the series. As any developing mystery series I expect the characters to expand as the series does. If you find out everything about a character at the beginning of the series what is there to discover later? Barbeque is big business and Lou Jane Temple does as many other authors do, sets the characters and story line in a place she knows.Again, I recommend this series to anyone who likes an enjoyable mystery and wants some yummy recipes to add to their menus.",
         "1"
        ],
        [
         "45",
         "The only thing... ....I don't like about this stroller is that it doesn't have a good way to shield my babies from the direct sunlight. I think it stinks that you have to buy extra screens and rainguards for strollers when you will ovbiously need these items! Other than that this stroller has been a lifesaver. I recently brought home twin boys, and once my \"help\" left town after two weeks, it was great to be able to run the babies around the neigborhood. They love riding in it, and it's so easy to maneuver I love pushing it.",
         "1"
        ],
        [
         "46",
         "The Bigs is both HARD and FUN Here's the deal:The Bigs can be very frustrating at first. Most of this frustration is caused by the manual being horrible at descirbing the required motions with the wiimote.However, once you figure out the controls, the game becomes quite fun. If anything, all you need is good coordination and a good memory to have fun (there are ALOT of different wiimote actions).After you get over the controls (it took me a day or two), you can concentrate on enjoying the game. Slow-motion leaps and dives, 30 foot superman-esque jumps off the wall to steal homers, etc. I've read complaints about the swing being delayed a bit compared to wii sports baseball. My answer? Deal with it! Anyone half good at video games will get used to it almost immediately. Some people just like to complain :).I've only had this game for a few days, and look forward to building up my rookie. So far I'm quite satisfied with my purchase.",
         "1"
        ],
        [
         "47",
         "This band is the best christian rock band today Of any remotely christian band that I have ever heard this is the best. The lyrics are incredible. \"welcome to Despair\" is an awesome ballad.",
         "1"
        ],
        [
         "48",
         "Excellent Rice Mixes Both the SunWest Jasmine & Basmati Medley's are excellent! Problem is finding them anymore. I too used to purchase both from Costco. The herbs and vegetables in these mixes are so tasty and healthy. I've signed up to get both mixes as soon as they're available from Amazon. Just hope that's soon. Thanks so much to the other fans that submitted the recipes - I can't wait to try them out!",
         "1"
        ],
        [
         "49",
         "it sure is dark If you like Dark bean coffee, I would think this is excellent. I'm more of a medium bean person.",
         "1"
        ]
       ],
       "shape": {
        "columns": 2,
        "rows": 10000
       }
      },
      "text/html": [
       "<div>\n",
       "<style scoped>\n",
       "    .dataframe tbody tr th:only-of-type {\n",
       "        vertical-align: middle;\n",
       "    }\n",
       "\n",
       "    .dataframe tbody tr th {\n",
       "        vertical-align: top;\n",
       "    }\n",
       "\n",
       "    .dataframe thead th {\n",
       "        text-align: right;\n",
       "    }\n",
       "</style>\n",
       "<table border=\"1\" class=\"dataframe\">\n",
       "  <thead>\n",
       "    <tr style=\"text-align: right;\">\n",
       "      <th></th>\n",
       "      <th>text</th>\n",
       "      <th>label</th>\n",
       "    </tr>\n",
       "  </thead>\n",
       "  <tbody>\n",
       "    <tr>\n",
       "      <th>0</th>\n",
       "      <td>Perfect Mantra I've been looking for this mant...</td>\n",
       "      <td>1</td>\n",
       "    </tr>\n",
       "    <tr>\n",
       "      <th>1</th>\n",
       "      <td>Quality I'm just a little disapointed with the...</td>\n",
       "      <td>1</td>\n",
       "    </tr>\n",
       "    <tr>\n",
       "      <th>2</th>\n",
       "      <td>Exceptional murder-mystery writer scores big. ...</td>\n",
       "      <td>1</td>\n",
       "    </tr>\n",
       "    <tr>\n",
       "      <th>3</th>\n",
       "      <td>all the prodding questions you never wanted to...</td>\n",
       "      <td>1</td>\n",
       "    </tr>\n",
       "    <tr>\n",
       "      <th>4</th>\n",
       "      <td>Best Wok ever I am so glad I bought this wok. ...</td>\n",
       "      <td>1</td>\n",
       "    </tr>\n",
       "    <tr>\n",
       "      <th>...</th>\n",
       "      <td>...</td>\n",
       "      <td>...</td>\n",
       "    </tr>\n",
       "    <tr>\n",
       "      <th>9995</th>\n",
       "      <td>Doesn't work for me While I applaud the focus ...</td>\n",
       "      <td>0</td>\n",
       "    </tr>\n",
       "    <tr>\n",
       "      <th>9996</th>\n",
       "      <td>Beyond Stupid One wonders about all the people...</td>\n",
       "      <td>0</td>\n",
       "    </tr>\n",
       "    <tr>\n",
       "      <th>9997</th>\n",
       "      <td>Buyer Be Very Wary The trusted leader in child...</td>\n",
       "      <td>0</td>\n",
       "    </tr>\n",
       "    <tr>\n",
       "      <th>9998</th>\n",
       "      <td>I'll bring earplugs to the state fair next yea...</td>\n",
       "      <td>0</td>\n",
       "    </tr>\n",
       "    <tr>\n",
       "      <th>9999</th>\n",
       "      <td>Melody The reason why I didn't like this produ...</td>\n",
       "      <td>0</td>\n",
       "    </tr>\n",
       "  </tbody>\n",
       "</table>\n",
       "<p>10000 rows × 2 columns</p>\n",
       "</div>"
      ],
      "text/plain": [
       "                                                   text  label\n",
       "0     Perfect Mantra I've been looking for this mant...      1\n",
       "1     Quality I'm just a little disapointed with the...      1\n",
       "2     Exceptional murder-mystery writer scores big. ...      1\n",
       "3     all the prodding questions you never wanted to...      1\n",
       "4     Best Wok ever I am so glad I bought this wok. ...      1\n",
       "...                                                 ...    ...\n",
       "9995  Doesn't work for me While I applaud the focus ...      0\n",
       "9996  Beyond Stupid One wonders about all the people...      0\n",
       "9997  Buyer Be Very Wary The trusted leader in child...      0\n",
       "9998  I'll bring earplugs to the state fair next yea...      0\n",
       "9999  Melody The reason why I didn't like this produ...      0\n",
       "\n",
       "[10000 rows x 2 columns]"
      ]
     },
     "execution_count": 7,
     "metadata": {},
     "output_type": "execute_result"
    }
   ],
   "source": [
    "df"
   ]
  },
  {
   "cell_type": "markdown",
   "id": "ab2ce050",
   "metadata": {},
   "source": [
    "# Pre-processing data"
   ]
  },
  {
   "cell_type": "markdown",
   "id": "74a9701d",
   "metadata": {},
   "source": [
    "##### 1. Data cleaning"
   ]
  },
  {
   "cell_type": "code",
   "execution_count": 8,
   "id": "d3697b0a",
   "metadata": {},
   "outputs": [
    {
     "name": "stdout",
     "output_type": "stream",
     "text": [
      "Loading cleaned texts from /Users/tig1/Programming/TOPOL/data/amazon_reviews_texts.pickle\n",
      "Loaded 10000 texts\n"
     ]
    }
   ],
   "source": [
    "entities_to_mask = [\"DATE\", \"TIME\", \"ORGANIZATION\", \"NUM\", \"LOCATION\"]\n",
    "STOP_WORDS += entities_to_mask\n",
    "\n",
    "fpath = os.path.join(DATA_PATH, f\"{FILES_PREFIX}_texts.pickle\")\n",
    "if os.path.exists(fpath):\n",
    "    print(f\"Loading cleaned texts from {fpath}\")\n",
    "    with open(fpath, \"rb\") as f:\n",
    "        texts = pickle.load(f)\n",
    "    print(f\"Loaded {len(texts)} texts\")\n",
    "else:\n",
    "    print(f\"Generating cleaned texts for {len(df)} raw texts...\")\n",
    "    texts = []\n",
    "    for i, row in tqdm(df.iterrows(), total=len(df)):\n",
    "        cleaned_text = preproc.get_clean_text(row, entities_to_mask=entities_to_mask, max_lenght=5000)\n",
    "        texts.append(cleaned_text)\n",
    "    with open(fpath, \"wb\") as f:\n",
    "        pickle.dump(texts, f)\n",
    "    print(f\"Saved {len(texts)} cleaned texts to {fpath}.\")\n",
    "\n",
    "df[\"text\"] = texts\n",
    "del fpath"
   ]
  },
  {
   "cell_type": "markdown",
   "id": "5b74c14c",
   "metadata": {},
   "source": [
    "##### 2. Embedding texts"
   ]
  },
  {
   "cell_type": "code",
   "execution_count": 9,
   "id": "03aa75bd",
   "metadata": {},
   "outputs": [
    {
     "name": "stdout",
     "output_type": "stream",
     "text": [
      "Loading embeddings from /Users/tig1/Programming/TOPOL/data/amazon_reviews_embeddings.pickle\n",
      "Loaded 10000 embeddings\n"
     ]
    }
   ],
   "source": [
    "EMBEDDING_MODEL = OpenAIEmbedding(model=\"text-embedding-3-small\")\n",
    "# EMBEDDING_MODEL = GoogleAIEmbedding(model=\"text-embedding-004\")\n",
    "# EMBEDDING_MODEL = AdvancedGoogleAIEmbedding(model='text-embedding-004', task='clustering')\n",
    "# EMBEDDING_MODEL = SentenceTransformer('intfloat/multilingual-e5-large-instruct', device=DEVICE)\n",
    "\n",
    "fpath = os.path.join(DATA_PATH, f\"{FILES_PREFIX}_embeddings.pickle\")\n",
    "if os.path.exists(fpath):\n",
    "    print(f\"Loading embeddings from {fpath}\")\n",
    "    with open(fpath, \"rb\") as f:\n",
    "        embeddings = pickle.load(f)\n",
    "    print(f\"Loaded {len(embeddings)} embeddings\")\n",
    "else:\n",
    "    print(f\"Generating embeddings for {len(df)} documents...\")\n",
    "    embeddings = EMBEDDING_MODEL.encode(df[\"document\"].tolist(), fast=False)\n",
    "    with open(fpath, \"wb\") as f:\n",
    "        pickle.dump(embeddings, f)\n",
    "    print(f\"Saved {len(embeddings)} embeddings to {fpath}.\")\n",
    "\n",
    "df[\"embedding\"] = embeddings.tolist()\n",
    "del fpath"
   ]
  },
  {
   "cell_type": "markdown",
   "id": "c808ee0a",
   "metadata": {},
   "source": [
    "##### 3. Sentiment Analysis"
   ]
  },
  {
   "cell_type": "code",
   "execution_count": null,
   "id": "07154a0a",
   "metadata": {},
   "outputs": [
    {
     "name": "stderr",
     "output_type": "stream",
     "text": [
      "Device set to use mps\n"
     ]
    },
    {
     "name": "stdout",
     "output_type": "stream",
     "text": [
      "Loading sentiments from /Users/tig1/Programming/TOPOL/data/amazon_reviews_sentiments.pickle\n",
      "Loaded 10000 sentiments\n"
     ]
    }
   ],
   "source": [
    "sentiment_model = SentimentModel(model_name=\"ProsusAI/finbert\", device=DEVICE)\n",
    "\n",
    "fpath = os.path.join(DATA_PATH, f\"{FILES_PREFIX}_sentiments.pickle\")\n",
    "if os.path.exists(fpath):\n",
    "    print(f\"Loading sentiments from {fpath}\")\n",
    "    with open(fpath, \"rb\") as f:\n",
    "        sentiments = pickle.load(f)\n",
    "    print(f\"Loaded {len(sentiments)} sentiments\")\n",
    "else:\n",
    "    print(f\"Generating sentiments for {len(df)} texts...\")\n",
    "    sentiments = []\n",
    "    for idx, row in tqdm(df.iterrows(), total=len(df)):\n",
    "        doc = row['document']\n",
    "        temp_sentiment = sentiment_model(doc, max_length=512)\n",
    "        sentiments.append(temp_sentiment)\n",
    "    with open(fpath, \"wb\") as f:\n",
    "        pickle.dump(sentiments, f)\n",
    "    print(f\"Saved {len(sentiments)} sentiments to {fpath}.\")\n",
    "\n",
    "df[\"sentiment\"] = sentiments\n",
    "df[\"sentiment_score\"] = df[\"sentiment\"].apply(sentiment_model.get_sentiment_score)\n",
    "del fpath"
   ]
  },
  {
   "cell_type": "markdown",
   "id": "2784bbdb",
   "metadata": {},
   "source": [
    "# TOPOL Modeling"
   ]
  },
  {
   "cell_type": "markdown",
   "id": "a2435e8f",
   "metadata": {},
   "source": [
    "### Prepare data"
   ]
  },
  {
   "cell_type": "code",
   "execution_count": 11,
   "id": "6085d3e6",
   "metadata": {},
   "outputs": [],
   "source": [
    "data_A = df[df[\"label\"] == 1].copy()\n",
    "data_B = df[df[\"label\"] == 0].copy()"
   ]
  },
  {
   "cell_type": "code",
   "execution_count": 12,
   "id": "492ba9fc",
   "metadata": {},
   "outputs": [
    {
     "data": {
      "image/png": "[encoded data removed]",
      "text/plain": [
       "<Figure size 1000x500 with 1 Axes>"
      ]
     },
     "metadata": {},
     "output_type": "display_data"
    }
   ],
   "source": [
    "plt.figure(figsize=(10, 5))\n",
    "plt.hist(data_A[\"sentiment_score\"].values, bins=50, alpha=0.5, label='Positive Reviews', color='blue')\n",
    "plt.axvline(x=data_A[\"sentiment_score\"].mean(), color='blue', linestyle='--', label='Mean Pos. Review Sentiment')\n",
    "plt.hist(data_B[\"sentiment_score\"].values, bins=50, alpha=0.5, label='Negative Reviews', color='red')\n",
    "plt.axvline(x=data_B[\"sentiment_score\"].mean(), color='red', linestyle='--', label='Mean Neg. Review Sentiment')\n",
    "plt.axvline(x=0, color='black', linestyle='--')\n",
    "plt.xlabel('Sentiment Score')\n",
    "plt.ylabel('Frequency')\n",
    "plt.legend()\n",
    "plt.savefig(os.path.join(OUTPUTS_PATH, \"sentiment_score_frequency_amazon_reviews.pdf\"), format=\"pdf\", bbox_inches='tight')\n",
    "plt.show()"
   ]
  },
  {
   "cell_type": "markdown",
   "id": "72a62e9c",
   "metadata": {},
   "source": [
    "### Prepare UMAP, Leiden and vectorizer model"
   ]
  },
  {
   "cell_type": "code",
   "execution_count": null,
   "id": "acbd21d9",
   "metadata": {},
   "outputs": [],
   "source": [
    "umap_params = {\n",
    "    'n_neighbors': 100,\n",
    "    'min_dist': 0.0,\n",
    "    'metric': 'cosine',\n",
    "    'transform_mode': \"embedding\",\n",
    "    'random_state': RANDOM_STATE\n",
    "}\n",
    "\n",
    "leiden_params = {\n",
    "    'resolution': 1.5,\n",
    "    'modularity': 'dugue',\n",
    "    'random_state': RANDOM_STATE,\n",
    "}\n",
    "\n",
    "vectorizer_model = CountVectorizer(stop_words=STOP_WORDS, ngram_range=(1, 2), max_features=10000)\n",
    "\n",
    "topol_model = TOPOL(\n",
    "    n_components=50,\n",
    "    umap_model_params=umap_params,\n",
    "    leiden_model_params=leiden_params,\n",
    "    vectorizer_model=vectorizer_model,\n",
    "    supervised=False,\n",
    ")"
   ]
  },
  {
   "cell_type": "markdown",
   "id": "00fbe395",
   "metadata": {},
   "source": [
    "### Apply analysis"
   ]
  },
  {
   "cell_type": "code",
   "execution_count": null,
   "id": "89163977",
   "metadata": {},
   "outputs": [
    {
     "name": "stderr",
     "output_type": "stream",
     "text": [
      "/Users/tig1/miniforge3/envs/topol/lib/python3.10/site-packages/sklearn/utils/deprecation.py:151: FutureWarning: 'force_all_finite' was renamed to 'ensure_all_finite' in 1.6 and will be removed in 1.8.\n",
      "  warnings.warn(\n",
      "/Users/tig1/miniforge3/envs/topol/lib/python3.10/site-packages/umap/umap_.py:1952: UserWarning: n_jobs value 1 overridden to 1 by setting random_state. Use no seed for parallelism.\n",
      "  warn(\n",
      "OMP: Info #276: omp_set_nested routine deprecated, please use omp_set_max_active_levels instead.\n"
     ]
    }
   ],
   "source": [
    "topol_model.apply_modeling(\n",
    "    df_A=data_A,\n",
    "    df_B=data_B,\n",
    "    n_top_freq_words=20,\n",
    "    n_repr_docs=10,\n",
    "    n_top_tf_idf_words=20\n",
    ")"
   ]
  },
  {
   "cell_type": "code",
   "execution_count": null,
   "id": "3de97bb6",
   "metadata": {},
   "outputs": [],
   "source": [
    "topol_model.dataset_A.cluster_info"
   ]
  },
  {
   "cell_type": "code",
   "execution_count": null,
   "id": "f8dbd496",
   "metadata": {},
   "outputs": [],
   "source": [
    "topol_model.dataset_B.cluster_info"
   ]
  },
  {
   "cell_type": "code",
   "execution_count": null,
   "id": "51f58b5c",
   "metadata": {},
   "outputs": [
    {
     "ename": "AttributeError",
     "evalue": "'NoneType' object has no attribute 'iterrows'",
     "output_type": "error",
     "traceback": [
      "\u001b[0;31m---------------------------------------------------------------------------\u001b[0m",
      "\u001b[0;31mAttributeError\u001b[0m                            Traceback (most recent call last)",
      "Cell \u001b[0;32mIn[17], line 1\u001b[0m\n\u001b[0;32m----> 1\u001b[0m fig, ax \u001b[38;5;241m=\u001b[39m \u001b[43mtopol_model\u001b[49m\u001b[38;5;241;43m.\u001b[39;49m\u001b[43mvizualize_clusters\u001b[49m\u001b[43m(\u001b[49m\u001b[43m)\u001b[49m\n\u001b[1;32m      2\u001b[0m fig\u001b[38;5;241m.\u001b[39mwrite_image(os\u001b[38;5;241m.\u001b[39mpath\u001b[38;5;241m.\u001b[39mjoin(OUTPUTS_PATH, \u001b[38;5;124mf\u001b[39m\u001b[38;5;124m\"\u001b[39m\u001b[38;5;132;01m{\u001b[39;00mFILES_PREFIX\u001b[38;5;132;01m}\u001b[39;00m\u001b[38;5;124m_topol_clusters.pdf\u001b[39m\u001b[38;5;124m\"\u001b[39m), \u001b[38;5;28mformat\u001b[39m\u001b[38;5;241m=\u001b[39m\u001b[38;5;124m\"\u001b[39m\u001b[38;5;124mpdf\u001b[39m\u001b[38;5;124m\"\u001b[39m, bbox_inches\u001b[38;5;241m=\u001b[39m\u001b[38;5;124m'\u001b[39m\u001b[38;5;124mtight\u001b[39m\u001b[38;5;124m'\u001b[39m)\n\u001b[1;32m      3\u001b[0m plt\u001b[38;5;241m.\u001b[39mshow(fig)\n",
      "File \u001b[0;32m~/Programming/TOPOL/src/topol_modeling.py:190\u001b[0m, in \u001b[0;36mTopolModeling.vizualize_clusters\u001b[0;34m(self, figsize)\u001b[0m\n\u001b[1;32m    188\u001b[0m \u001b[38;5;66;03m# --- Plot drift arrows ---\u001b[39;00m\n\u001b[1;32m    189\u001b[0m drifts \u001b[38;5;241m=\u001b[39m {}\n\u001b[0;32m--> 190\u001b[0m \u001b[38;5;28;01mfor\u001b[39;00m idx, row \u001b[38;5;129;01min\u001b[39;00m \u001b[38;5;28;43mself\u001b[39;49m\u001b[38;5;241;43m.\u001b[39;49m\u001b[43mdataset_B\u001b[49m\u001b[38;5;241;43m.\u001b[39;49m\u001b[43mcluster_info\u001b[49m\u001b[38;5;241;43m.\u001b[39;49m\u001b[43miterrows\u001b[49m():\n\u001b[1;32m    191\u001b[0m     cluster_id \u001b[38;5;241m=\u001b[39m row[\u001b[38;5;124m'\u001b[39m\u001b[38;5;124mCluster\u001b[39m\u001b[38;5;124m'\u001b[39m]\n\u001b[1;32m    192\u001b[0m     \u001b[38;5;28;01mif\u001b[39;00m cluster_id \u001b[38;5;129;01min\u001b[39;00m \u001b[38;5;28mself\u001b[39m\u001b[38;5;241m.\u001b[39mcluster_info_A[\u001b[38;5;124m'\u001b[39m\u001b[38;5;124mCluster\u001b[39m\u001b[38;5;124m'\u001b[39m]\u001b[38;5;241m.\u001b[39mvalues:\n",
      "\u001b[0;31mAttributeError\u001b[0m: 'NoneType' object has no attribute 'iterrows'"
     ]
    },
    {
     "data": {
      "image/png": "[encoded data removed]",
      "text/plain": [
       "<Figure size 1000x1000 with 1 Axes>"
      ]
     },
     "metadata": {},
     "output_type": "display_data"
    }
   ],
   "source": [
    "fig, ax = topol_model.vizualize_clusters()\n",
    "fig.write_image(os.path.join(OUTPUTS_PATH, f\"{FILES_PREFIX}_topol_clusters.pdf\"), format=\"pdf\", bbox_inches='tight')\n",
    "plt.show(fig)"
   ]
  },
  {
   "cell_type": "code",
   "execution_count": null,
   "id": "d9d42fc9",
   "metadata": {},
   "outputs": [],
   "source": [
    "colors = ['red', 'blue', 'green', 'orange', 'purple', 'pink', 'brown', 'gray']\n",
    "drifts_df = pd.DataFrame.from_dict(topol_model.drifts, orient='index', columns=['x', 'y']).dropna()\n",
    "drifts_df.index.name = \"Cluster\"\n",
    "\n",
    "fig, ax = plt.subplots(figsize=(8, 10))\n",
    "\n",
    "for topic_id, row in drifts_df.iterrows():\n",
    "    x, y, label_id = row['x'], row['y'], int(row['labels'])\n",
    "    color = colors[label_id]\n",
    "    ax.plot([0, x], [0, y], color=color, linewidth=2, label=f\"Topic {topic_id}\")\n",
    "    ax.text(x, y, f\"Topic {topic_id}\", fontsize=9, color=color, ha='left', va='bottom')\n",
    "\n",
    "lim = 2.1\n",
    "ax.set_aspect('equal', 'box')\n",
    "ax.set_xlim(-lim, lim); ax.set_ylim(-lim, lim)\n",
    "ax.axhline(0, color='black', linewidth=0.5); ax.axvline(0, color='black', linewidth=0.5)\n",
    "ax.set_frame_on(False)\n",
    "fig.tight_layout()\n",
    "\n",
    "fig.savefig(os.path.join(OUTPUTS_PATH, f\"{FILES_PREFIX}_topol_drifts.pdf\"), format=\"pdf\", bbox_inches='tight')\n",
    "plt.show()"
   ]
  },
  {
   "cell_type": "code",
   "execution_count": null,
   "id": "d323ca38",
   "metadata": {},
   "outputs": [],
   "source": []
  },
  {
   "cell_type": "code",
   "execution_count": null,
   "id": "cbf4f099",
   "metadata": {},
   "outputs": [],
   "source": []
  },
  {
   "cell_type": "code",
   "execution_count": null,
   "id": "3939c82d",
   "metadata": {},
   "outputs": [],
   "source": []
  },
  {
   "cell_type": "code",
   "execution_count": null,
   "id": "57ca3976",
   "metadata": {},
   "outputs": [],
   "source": []
  }
 ],
 "metadata": {
  "kernelspec": {
   "display_name": "topol",
   "language": "python",
   "name": "python3"
  },
  "language_info": {
   "codemirror_mode": {
    "name": "ipython",
    "version": 3
   },
   "file_extension": ".py",
   "mimetype": "text/x-python",
   "name": "python",
   "nbconvert_exporter": "python",
   "pygments_lexer": "ipython3",
   "version": "3.10.17"
  }
 },
 "nbformat": 4,
 "nbformat_minor": 5
}
